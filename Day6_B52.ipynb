{
 "cells": [
  {
   "cell_type": "code",
   "execution_count": 1,
   "id": "fb592d3d",
   "metadata": {},
   "outputs": [],
   "source": [
    "students = ('kranthi','shreya','pooja','sajid','aliya','namitha')"
   ]
  },
  {
   "cell_type": "code",
   "execution_count": 2,
   "id": "818987d0",
   "metadata": {},
   "outputs": [
    {
     "name": "stdout",
     "output_type": "stream",
     "text": [
      "('kranthi', 'shreya', 'pooja', 'sajid', 'aliya', 'namitha')\n"
     ]
    }
   ],
   "source": [
    "print(students)"
   ]
  },
  {
   "cell_type": "code",
   "execution_count": 3,
   "id": "ac7e482e",
   "metadata": {},
   "outputs": [
    {
     "data": {
      "text/plain": [
       "tuple"
      ]
     },
     "execution_count": 3,
     "metadata": {},
     "output_type": "execute_result"
    }
   ],
   "source": [
    "type(students)"
   ]
  },
  {
   "cell_type": "code",
   "execution_count": 4,
   "id": "970913f5",
   "metadata": {},
   "outputs": [],
   "source": [
    "students = ['kranthi','shreya','pooja','sajid','aliya','namitha']"
   ]
  },
  {
   "cell_type": "code",
   "execution_count": 5,
   "id": "3e14ad92",
   "metadata": {},
   "outputs": [
    {
     "name": "stdout",
     "output_type": "stream",
     "text": [
      "['kranthi', 'shreya', 'pooja', 'sajid', 'aliya', 'namitha']\n"
     ]
    }
   ],
   "source": [
    "print(students)"
   ]
  },
  {
   "cell_type": "code",
   "execution_count": 6,
   "id": "bea614e3",
   "metadata": {},
   "outputs": [
    {
     "data": {
      "text/plain": [
       "list"
      ]
     },
     "execution_count": 6,
     "metadata": {},
     "output_type": "execute_result"
    }
   ],
   "source": [
    "type(students)"
   ]
  },
  {
   "cell_type": "code",
   "execution_count": 7,
   "id": "ac276725",
   "metadata": {},
   "outputs": [
    {
     "ename": "SyntaxError",
     "evalue": "closing parenthesis '}' does not match opening parenthesis '(' (<ipython-input-7-3bc0b5b89c9d>, line 1)",
     "output_type": "error",
     "traceback": [
      "\u001b[1;36m  File \u001b[1;32m\"<ipython-input-7-3bc0b5b89c9d>\"\u001b[1;36m, line \u001b[1;32m1\u001b[0m\n\u001b[1;33m    print(f\"keep up the good work, {students[0].title()}\"}\u001b[0m\n\u001b[1;37m                                                         ^\u001b[0m\n\u001b[1;31mSyntaxError\u001b[0m\u001b[1;31m:\u001b[0m closing parenthesis '}' does not match opening parenthesis '('\n"
     ]
    }
   ],
   "source": [
    "print(f\"keep up the good work, {students[0].title()}\"}"
   ]
  },
  {
   "cell_type": "code",
   "execution_count": 8,
   "id": "f6fb6683",
   "metadata": {},
   "outputs": [
    {
     "name": "stdout",
     "output_type": "stream",
     "text": [
      "keep up the good work, Kranthi\n"
     ]
    }
   ],
   "source": [
    "print(f\"keep up the good work, {students[0].title()}\")"
   ]
  },
  {
   "cell_type": "code",
   "execution_count": null,
   "id": "74985705",
   "metadata": {},
   "outputs": [],
   "source": [
    "print(f\"keep up the good work, {students[0].title()}\")"
   ]
  },
  {
   "cell_type": "code",
   "execution_count": 9,
   "id": "bc034b7c",
   "metadata": {},
   "outputs": [
    {
     "ename": "SyntaxError",
     "evalue": "unexpected EOF while parsing (<ipython-input-9-e071723322bd>, line 1)",
     "output_type": "error",
     "traceback": [
      "\u001b[1;36m  File \u001b[1;32m\"<ipython-input-9-e071723322bd>\"\u001b[1;36m, line \u001b[1;32m1\u001b[0m\n\u001b[1;33m    print(f\"keep up the good work, {students[1].title()}\"\u001b[0m\n\u001b[1;37m                                                         ^\u001b[0m\n\u001b[1;31mSyntaxError\u001b[0m\u001b[1;31m:\u001b[0m unexpected EOF while parsing\n"
     ]
    }
   ],
   "source": [
    "print(f\"keep up the good work, {students[1].title()}\""
   ]
  },
  {
   "cell_type": "code",
   "execution_count": 10,
   "id": "affb0b5d",
   "metadata": {},
   "outputs": [
    {
     "name": "stdout",
     "output_type": "stream",
     "text": [
      "keep up the good work, Shreya\n"
     ]
    }
   ],
   "source": [
    "print(f\"keep up the good work, {students[1].title()}\")"
   ]
  },
  {
   "cell_type": "code",
   "execution_count": 11,
   "id": "32eecb06",
   "metadata": {},
   "outputs": [
    {
     "name": "stdout",
     "output_type": "stream",
     "text": [
      "keep up the good work, Pooja\n"
     ]
    }
   ],
   "source": [
    "print(f\"keep up the good work, {students[2].title()}\")"
   ]
  },
  {
   "cell_type": "code",
   "execution_count": 12,
   "id": "96f9dfc3",
   "metadata": {},
   "outputs": [
    {
     "name": "stdout",
     "output_type": "stream",
     "text": [
      "keep up the good work, Sajid\n"
     ]
    }
   ],
   "source": [
    "print(f\"keep up the good work, {students[3].title()}\")"
   ]
  },
  {
   "cell_type": "code",
   "execution_count": 13,
   "id": "7a1b89a8",
   "metadata": {},
   "outputs": [
    {
     "name": "stdout",
     "output_type": "stream",
     "text": [
      "keep up the good work, Kranthi\n",
      "keep up the good work, Shreya\n",
      "keep up the good work, Pooja\n",
      "keep up the good work, Sajid\n",
      "keep up the good work, Aliya\n",
      "keep up the good work, Namitha\n"
     ]
    }
   ],
   "source": [
    "for x in students:\n",
    "    print(f\"keep up the good work, {x.title()}\")"
   ]
  },
  {
   "cell_type": "code",
   "execution_count": 14,
   "id": "48f4319e",
   "metadata": {},
   "outputs": [
    {
     "name": "stdout",
     "output_type": "stream",
     "text": [
      "keep up the goodwork, Kranthi\n",
      "keep up the goodwork, Shreya\n",
      "keep up the goodwork, Pooja\n",
      "keep up the goodwork, Sajid\n",
      "keep up the goodwork, Aliya\n",
      "keep up the goodwork, Namitha\n"
     ]
    }
   ],
   "source": [
    "for ironman in students:\n",
    "    print(f\"keep up the goodwork, {ironman.title()}\")"
   ]
  },
  {
   "cell_type": "code",
   "execution_count": 15,
   "id": "8d162b49",
   "metadata": {},
   "outputs": [
    {
     "name": "stdout",
     "output_type": "stream",
     "text": [
      "keep up the goodwork, Kranthi\n",
      "please do send me the practise file of today,Kranthi\n",
      "keep up the goodwork, Shreya\n",
      "please do send me the practise file of today,Shreya\n",
      "keep up the goodwork, Pooja\n",
      "please do send me the practise file of today,Pooja\n",
      "keep up the goodwork, Sajid\n",
      "please do send me the practise file of today,Sajid\n",
      "keep up the goodwork, Aliya\n",
      "please do send me the practise file of today,Aliya\n",
      "keep up the goodwork, Namitha\n",
      "please do send me the practise file of today,Namitha\n"
     ]
    }
   ],
   "source": [
    "for x in students:\n",
    "    print(f\"keep up the goodwork, {x.title()}\")\n",
    "    print(f\"please do send me the practise file of today,{x.title()}\")"
   ]
  },
  {
   "cell_type": "code",
   "execution_count": 16,
   "id": "7e79a63b",
   "metadata": {},
   "outputs": [
    {
     "name": "stdout",
     "output_type": "stream",
     "text": [
      "keep up the goodwork, Kranthi\n",
      "please do send me the practise file of today,Kranthi.\n",
      "\n",
      "keep up the goodwork, Shreya\n",
      "please do send me the practise file of today,Shreya.\n",
      "\n",
      "keep up the goodwork, Pooja\n",
      "please do send me the practise file of today,Pooja.\n",
      "\n",
      "keep up the goodwork, Sajid\n",
      "please do send me the practise file of today,Sajid.\n",
      "\n",
      "keep up the goodwork, Aliya\n",
      "please do send me the practise file of today,Aliya.\n",
      "\n",
      "keep up the goodwork, Namitha\n",
      "please do send me the practise file of today,Namitha.\n",
      "\n"
     ]
    }
   ],
   "source": [
    "for x in students:\n",
    "    print(f\"keep up the goodwork, {x.title()}\")\n",
    "    print(f\"please do send me the practise file of today,{x.title()}.\\n\")"
   ]
  },
  {
   "cell_type": "code",
   "execution_count": 17,
   "id": "b4e9aba0",
   "metadata": {},
   "outputs": [
    {
     "name": "stdout",
     "output_type": "stream",
     "text": [
      "keep up the goodwork, Kranthi\n",
      "please do send me the practise file of today,Kranthi.\n",
      "\n",
      "keep up the goodwork, Shreya\n",
      "please do send me the practise file of today,Shreya.\n",
      "\n",
      "keep up the goodwork, Pooja\n",
      "please do send me the practise file of today,Pooja.\n",
      "\n",
      "keep up the goodwork, Sajid\n",
      "please do send me the practise file of today,Sajid.\n",
      "\n",
      "keep up the goodwork, Aliya\n",
      "please do send me the practise file of today,Aliya.\n",
      "\n",
      "keep up the goodwork, Namitha\n",
      "please do send me the practise file of today,Namitha.\n",
      "\n",
      "Thank you all for showing the interest to learn python\n"
     ]
    }
   ],
   "source": [
    "for x in students:\n",
    "    print(f\"keep up the goodwork, {x.title()}\")\n",
    "    print(f\"please do send me the practise file of today,{x.title()}.\\n\")\n",
    "    \n",
    "print(\"Thank you all for showing the interest to learn python\")    "
   ]
  },
  {
   "cell_type": "code",
   "execution_count": 18,
   "id": "4858e28e",
   "metadata": {},
   "outputs": [
    {
     "name": "stdout",
     "output_type": "stream",
     "text": [
      "keep up the goodwork, Kranthi\n",
      "please do send me the practise file of today,Kranthi\n",
      "keep up the goodwork, Shreya\n",
      "please do send me the practise file of today,Shreya\n",
      "keep up the goodwork, Pooja\n",
      "please do send me the practise file of today,Pooja\n",
      "keep up the goodwork, Sajid\n",
      "please do send me the practise file of today,Sajid\n",
      "keep up the goodwork, Aliya\n",
      "please do send me the practise file of today,Aliya\n",
      "keep up the goodwork, Namitha\n",
      "please do send me the practise file of today,Namitha\n"
     ]
    }
   ],
   "source": [
    "for x in students:\n",
    "    print(f\"keep up the goodwork, {x.title()}\")\n",
    "    print(f\"please do send me the practise file of today,{x.title()}\")"
   ]
  },
  {
   "cell_type": "code",
   "execution_count": null,
   "id": "5d3203dd",
   "metadata": {},
   "outputs": [],
   "source": []
  },
  {
   "cell_type": "code",
   "execution_count": null,
   "id": "a02136a6",
   "metadata": {},
   "outputs": [],
   "source": []
  }
 ],
 "metadata": {
  "kernelspec": {
   "display_name": "Python 3",
   "language": "python",
   "name": "python3"
  },
  "language_info": {
   "codemirror_mode": {
    "name": "ipython",
    "version": 3
   },
   "file_extension": ".py",
   "mimetype": "text/x-python",
   "name": "python",
   "nbconvert_exporter": "python",
   "pygments_lexer": "ipython3",
   "version": "3.8.8"
  }
 },
 "nbformat": 4,
 "nbformat_minor": 5
}
